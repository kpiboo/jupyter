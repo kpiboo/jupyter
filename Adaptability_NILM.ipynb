{
 "cells": [
  {
   "cell_type": "code",
   "execution_count": 3,
   "id": "1661d63b",
   "metadata": {},
   "outputs": [],
   "source": [
    "from sklearn.ensemble import RandomForestRegressor\n",
    "import pandas as pd, os\n",
    "from datetime import datetime\n",
    "import numpy as np \n",
    "from scipy.stats.stats import pearsonr\n",
    "from sklearn.metrics import mean_squared_error, r2_score, mean_absolute_error, SCORERS\n",
    "from sklearn.model_selection import validation_curve\n",
    "from xgboost import XGBRegressor, XGBClassifier\n",
    "import plotly.graph_objects as go\n",
    "import matplotlib.pyplot as plt\n",
    "import json\n",
    "import joblib\n",
    "from matplotlib import rcParams\n",
    "rcParams.update({'figure.autolayout': True})"
   ]
  },
  {
   "cell_type": "code",
   "execution_count": 27,
   "id": "e81ca0a6",
   "metadata": {},
   "outputs": [],
   "source": [
    "# Definition des Flags\n",
    "flag_features = \"v0\" # v0 v1 v2\n",
    "flag_train = 0 \n",
    "flag_test = 1 "
   ]
  },
  {
   "cell_type": "markdown",
   "id": "7382a3e2",
   "metadata": {},
   "source": [
    "# Mise en forme des données de test"
   ]
  },
  {
   "cell_type": "code",
   "execution_count": 22,
   "id": "cf399542",
   "metadata": {},
   "outputs": [],
   "source": [
    "path_data_label = \"data_redd/bat_2/fridge_test_bat_2.csv\"\n",
    "path_data_main = \"data_redd/bat_2/main_bat_2.csv\"\n",
    "\n",
    "df = pd.read_csv(path_data_label,header=1)\n",
    "df_ = pd.read_csv(path_data_main,header=1)\n",
    "\n",
    "need_to_convert_unix_to_dt = 0\n",
    "need_to_rename_first_column_to_date = 1\n",
    "\n",
    "if need_to_rename_first_column_to_date == 1:\n",
    "    \n",
    "    df.rename(columns={df.columns[0]: 'Date'},\n",
    "              inplace=True, errors='raise')\n",
    "    df_.rename(columns={df_.columns[0]: 'Date'},\n",
    "              inplace=True, errors='raise')\n",
    "    \n",
    "\n",
    "if need_to_convert_unix_to_dt == 1 : \n",
    "    def convert_ts(ts):\n",
    "        return(datetime.utcfromtimestamp(ts).strftime('%Y-%m-%d %H:%M:%S'))\n",
    "\n",
    "    # format index dataframe\n",
    "    df['unix_ts'] = df['unix_ts'].apply(lambda x:convert_ts(x))   \n",
    "    df.rename(columns={'unix_ts': 'Date'},\n",
    "              inplace=True, errors='raise')\n",
    "\n",
    "df = df.set_index('Date')\n",
    "df.index = pd.to_datetime(df.index)\n",
    "\n",
    "df_ = df_.set_index('Date')\n",
    "df_.index = pd.to_datetime(df_.index)\n",
    "\n",
    "#df = df.astype(float).dtypes\n",
    "#df_ = df_.astype(float).dtypes\n",
    "\n",
    "# drop \n",
    "#df = df.drop(['ihd'],axis=1)\n",
    "\n",
    "# Format matrice features\n",
    "if flag_features == \"v0\":\n",
    "\n",
    "    df.rename(columns={df.columns[0]: 'instant'},inplace=True, errors='raise')\n",
    "    df_general = pd.DataFrame(df['instant'])\n",
    "    df_general['mean_5'] = df_general['instant'].rolling(5).mean()\n",
    "    df_general['mean_120'] = df_general['instant'].rolling(120).mean()\n",
    "    df_general['std_5'] = df_general['instant'].rolling(5).std()\n",
    "    df_general['min_5'] = df_general['instant'].rolling(5).min()\n",
    "    df_general['max_5'] = df_general['instant'].rolling(5).max()\n",
    "    df_general = df_general.dropna()\n",
    "\n",
    "if flag_features == \"v1\":\n",
    "    \n",
    "    # valeur des pas de temps précédents en features \n",
    "    df.rename(columns={df.columns[0]: 'instant'},inplace=True, errors='raise')\n",
    "    df_general = pd.DataFrame(df['instant'])\n",
    "    L = [[],[],[],[],[],[],[],[],[]]\n",
    "    for i in range(len(L)) :\n",
    "        for j in range(i,len(df_general)):\n",
    "            L[i].append(df_general[\"instant\"][j])\n",
    "        df_general[\"L\" + str(i)] = np.nan\n",
    "        df_general[\"L\" + str(i)][i:len(df_general)] = L[i]\n",
    "    df_general = df_general.dropna()\n",
    "    \n",
    "# Format matrice label\n",
    "df_label = df_\n",
    "df_label = df_label.loc[df_general.index]\n",
    "\n",
    "# ecriture des csv\n",
    "df_general.to_csv(\"data_redd/bat_2/features.csv\")\n",
    "df_label.to_csv(\"data_redd/bat_2/label.csv\")\n"
   ]
  },
  {
   "cell_type": "code",
   "execution_count": 23,
   "id": "ccb5d3be",
   "metadata": {},
   "outputs": [],
   "source": [
    "# Lecture des fichiers de données \n",
    "path_x_train_1 = \"data_redd/features_train.csv\"\n",
    "path_y_train_1 = \"data_redd/labels_train.csv\"\n",
    "path_x_train_2 = \"data_redd/features_test.csv\"\n",
    "path_y_train_2 = \"data_redd/labels_test.csv\"\n",
    "\n",
    "path_x_test = \"data_redd/bat_2/features.csv\"\n",
    "path_y_test = \"data_redd/bat_2/label.csv\"\n",
    "\n",
    "device = 'fridge'\n",
    "\n",
    "# base initiale : REDD \n",
    "df_x_train_1 = pd.read_csv(path_x_train_1,index_col=0,parse_dates=True).dropna()\n",
    "df_y_train_1 = pd.read_csv(path_y_train_1,index_col=0,parse_dates=True).dropna()\n",
    "df_x_train_2 = pd.read_csv(path_x_train_2,index_col=0,parse_dates=True).dropna()\n",
    "df_y_train_2 = pd.read_csv(path_y_train_2,index_col=0,parse_dates=True).dropna()\n",
    "\n",
    "df_x_train = df_x_train_1.append(df_x_train_2)\n",
    "df_y_train = df_y_train_1[device].append(df_y_train_2[device])\n",
    "\n",
    "df_x_test = pd.read_csv(path_x_test,index_col=0,parse_dates=True).dropna()\n",
    "df_y_test = pd.read_csv(path_y_test,index_col=0,parse_dates=True).dropna()\n",
    "\n",
    "# bases de test : RAE \n",
    "# df_y_test.rename(columns={'sub8': 'fridge'},inplace=True, errors='raise')\n",
    "\n",
    "# bases de test REDD 2 \n",
    "df_y_test.rename(columns={'active': 'fridge'},inplace=True, errors='raise')"
   ]
  },
  {
   "cell_type": "code",
   "execution_count": 26,
   "id": "e9d0a8d8",
   "metadata": {},
   "outputs": [
    {
     "data": {
      "text/plain": [
       "<matplotlib.axes._subplots.AxesSubplot at 0x1cf8d4bd8b0>"
      ]
     },
     "execution_count": 26,
     "metadata": {},
     "output_type": "execute_result"
    },
    {
     "data": {
      "image/png": "[encoded data removed]",
      "text/plain": [
       "<Figure size 432x288 with 1 Axes>"
      ]
     },
     "metadata": {
      "needs_background": "light"
     },
     "output_type": "display_data"
    }
   ],
   "source": [
    "df_y_test[0:10000].plot()"
   ]
  },
  {
   "cell_type": "markdown",
   "id": "4fa3a504",
   "metadata": {},
   "source": [
    "# Entrainement et test du Random Forest"
   ]
  },
  {
   "cell_type": "code",
   "execution_count": 29,
   "id": "6960b3a9",
   "metadata": {},
   "outputs": [
    {
     "name": "stdout",
     "output_type": "stream",
     "text": [
      "=============== création et entraînement des modèles ===============\n",
      "rf score = \n",
      "0.8002350269374386\n",
      "xgb score = \n"
     ]
    },
    {
     "name": "stderr",
     "output_type": "stream",
     "text": [
      "C:\\ProgramData\\Anaconda3\\envs\\nilmtk-env\\lib\\site-packages\\xgboost\\data.py:112: UserWarning: Use subset (sliced data) of np.ndarray is not recommended because it will generate extra copies and increase memory consumption\n",
      "  warnings.warn(\n"
     ]
    },
    {
     "name": "stdout",
     "output_type": "stream",
     "text": [
      "0.9813987710155082\n",
      "=============== test des modèles =============== \n",
      "rmse rf :\n",
      "44617.45776633218\n",
      "rmse xgb :\n",
      "44869.80207182697\n"
     ]
    },
    {
     "name": "stderr",
     "output_type": "stream",
     "text": [
      "C:\\ProgramData\\Anaconda3\\envs\\nilmtk-env\\lib\\site-packages\\xgboost\\data.py:112: UserWarning: Use subset (sliced data) of np.ndarray is not recommended because it will generate extra copies and increase memory consumption\n",
      "  warnings.warn(\n"
     ]
    }
   ],
   "source": [
    "print(\"=============== création et entraînement des modèles ===============\")\n",
    "\n",
    "x_train = df_x_train.to_numpy()\n",
    "y_train = df_y_train.to_numpy()\n",
    "\n",
    "if flag_train == 1 :\n",
    "    \n",
    "    model_rf = RandomForestRegressor(n_estimators=100,max_depth=4,bootstrap=True)\n",
    "    model_xgb = XGBRegressor(max_depth=6, n_estimators =200)\n",
    "\n",
    "    model_rf.fit(x_train,y_train)\n",
    "    print(\"rf score = \")\n",
    "    print(model_rf.score(x_train,y_train))\n",
    "\n",
    "    model_xgb.fit(x_train,y_train)\n",
    "    print('xgb score = ')\n",
    "    print(model_xgb.score(x_train,y_train))\n",
    "\n",
    "    # enregistrer les modèles\n",
    "    print(\"=============== enregistrement des modèles =============== \")\n",
    "    joblib.dump(model_rf,\"model_rf\",compress=9)\n",
    "    joblib.dump(model_xgb,\"model_xgb\",compress=9)\n",
    "\n",
    "if flag_train == 0 : \n",
    "    \n",
    "    model_rf = joblib.load(\"model_rf\")\n",
    "    model_xgb = joblib.load(\"model_xgb\")\n",
    "    \n",
    "    print(\"rf score = \")\n",
    "    print(model_rf.score(x_train,y_train))\n",
    "    \n",
    "    print('xgb score = ')\n",
    "    print(model_xgb.score(x_train,y_train))\n",
    "\n",
    "if flag_test == 1 :\n",
    "    \n",
    "    print(\"=============== test des modèles =============== \")\n",
    "    \n",
    "    # test du modèle RF\n",
    "    x_test = df_x_test.to_numpy()\n",
    "    y_test = df_y_test.to_numpy()\n",
    "\n",
    "    df_predicted = pd.DataFrame(model_rf.predict(x_test),columns=[\"pred_rf\"])\n",
    "    df_predicted[\"pred_xgb\"] = pd.DataFrame(model_xgb.predict(x_test))\n",
    "    df_predicted['reel'] = pd.DataFrame(y_test)\n",
    "\n",
    "    print(\"rmse rf :\")\n",
    "    print(mean_squared_error(df_predicted['reel'],df_predicted['pred_rf']))\n",
    "\n",
    "    print(\"rmse xgb :\")\n",
    "    print(mean_squared_error(df_predicted['reel'],df_predicted['pred_xgb']))"
   ]
  },
  {
   "cell_type": "markdown",
   "id": "c9485b9a",
   "metadata": {},
   "source": []
  },
  {
   "cell_type": "code",
   "execution_count": 30,
   "id": "9a51fdac",
   "metadata": {},
   "outputs": [
    {
     "data": {
      "image/png": "[encoded data removed]",
      "text/plain": [
       "<Figure size 432x288 with 1 Axes>"
      ]
     },
     "metadata": {
      "needs_background": "light"
     },
     "output_type": "display_data"
    }
   ],
   "source": [
    "rmse_rf = round(np.sqrt(mean_squared_error(df_predicted['reel'],df_predicted['pred_rf'])),2)\n",
    "mae_rf = round(mean_absolute_error(df_predicted['reel'],df_predicted['pred_rf']),2)\n",
    "\n",
    "rmse_xgb = round(np.sqrt(mean_squared_error(df_predicted['reel'],df_predicted['pred_xgb'])),2)\n",
    "mae_xgb = round(mean_absolute_error(df_predicted['reel'],df_predicted['pred_xgb']),2)\n",
    "\n",
    "df_predicted['rmse_annotate'] = [-10 for elem in range(0,len(df_predicted))]\n",
    "df_predicted['mae_annotate'] = [-10 for elem in range(0,len(df_predicted))]\n",
    "df_predicted['rmse_annotate_'] = [-10 for elem in range(0,len(df_predicted))]\n",
    "df_predicted['mae_annotate_'] = [-10 for elem in range(0,len(df_predicted))]\n",
    "\n",
    "df_predicted[[\"pred_xgb\",\"pred_rf\",\"reel\"]][0:20000].plot(color=['blue','red',\"green\",'white','white','white','white'])\n",
    "\n",
    "#plt.yticks([0,50,100,150])\n",
    "plt.ylabel('MAE (W)')\n",
    "plt.xlabel('seconds (s)')\n",
    "plt.legend(['prediction_rf',\"prediction_xgb\",'real','RMSE_RF= ' + str(rmse_rf) + ' W','MAE_RF= ' + str(mae_rf) + ' W',\n",
    "           'RMSE_XGB= ' + str(rmse_xgb) + ' W','MAE_XGB= ' + str(mae_xgb) + ' W'])\n",
    "plt.savefig('result.png',dpi=200)"
   ]
  },
  {
   "cell_type": "code",
   "execution_count": 31,
   "id": "b416bd64",
   "metadata": {},
   "outputs": [
    {
     "data": {
      "image/png": "[encoded data removed]",
      "text/plain": [
       "<Figure size 432x288 with 1 Axes>"
      ]
     },
     "metadata": {
      "needs_background": "light"
     },
     "output_type": "display_data"
    }
   ],
   "source": [
    "with open('result.json') as f:\n",
    "    metric = json.load(f)\n",
    "\n",
    "metric = {\"Mean_naive\":[62.3,71.56],\"RF_5s\":[mae_rf,9.91],\"XGB\":[mae_xgb,10.17],\"RNN\":[50.9,23.27],\"DAE\":[41.7,18.47]}\n",
    "\n",
    "with open('result.json', 'w') as outfile:\n",
    "    json.dump(metric, outfile)\n",
    "    \n",
    "df = pd.DataFrame(metric).transpose()\n",
    "df.to_csv(\"result_.csv\")\n",
    "\n",
    "df.plot.bar()\n",
    "\n",
    "plt.title(\"Mean Absolute Error pour la détection d'un frigo\")\n",
    "plt.legend([\"Base de données différentes\",\"Même base de données\"])\n",
    "plt.ylabel('MAE (W)')\n",
    "\n",
    "plt.savefig('compare_adaptability.png',dpi=200)"
   ]
  },
  {
   "cell_type": "code",
   "execution_count": 26,
   "id": "e8938533",
   "metadata": {},
   "outputs": [
    {
     "data": {
      "text/html": [
       "<div>\n",
       "<style scoped>\n",
       "    .dataframe tbody tr th:only-of-type {\n",
       "        vertical-align: middle;\n",
       "    }\n",
       "\n",
       "    .dataframe tbody tr th {\n",
       "        vertical-align: top;\n",
       "    }\n",
       "\n",
       "    .dataframe thead th {\n",
       "        text-align: right;\n",
       "    }\n",
       "</style>\n",
       "<table border=\"1\" class=\"dataframe\">\n",
       "  <thead>\n",
       "    <tr style=\"text-align: right;\">\n",
       "      <th></th>\n",
       "      <th>0</th>\n",
       "      <th>1</th>\n",
       "    </tr>\n",
       "  </thead>\n",
       "  <tbody>\n",
       "    <tr>\n",
       "      <th>Mean_naive</th>\n",
       "      <td>62.30</td>\n",
       "      <td>71.56</td>\n",
       "    </tr>\n",
       "    <tr>\n",
       "      <th>RF_5s</th>\n",
       "      <td>75.62</td>\n",
       "      <td>9.91</td>\n",
       "    </tr>\n",
       "    <tr>\n",
       "      <th>XGB</th>\n",
       "      <td>175.30</td>\n",
       "      <td>10.17</td>\n",
       "    </tr>\n",
       "    <tr>\n",
       "      <th>RNN</th>\n",
       "      <td>50.90</td>\n",
       "      <td>23.27</td>\n",
       "    </tr>\n",
       "    <tr>\n",
       "      <th>DAE</th>\n",
       "      <td>41.70</td>\n",
       "      <td>18.47</td>\n",
       "    </tr>\n",
       "  </tbody>\n",
       "</table>\n",
       "</div>"
      ],
      "text/plain": [
       "                 0      1\n",
       "Mean_naive   62.30  71.56\n",
       "RF_5s        75.62   9.91\n",
       "XGB         175.30  10.17\n",
       "RNN          50.90  23.27\n",
       "DAE          41.70  18.47"
      ]
     },
     "execution_count": 26,
     "metadata": {},
     "output_type": "execute_result"
    }
   ],
   "source": [
    "df"
   ]
  },
  {
   "cell_type": "markdown",
   "id": "c0b23011",
   "metadata": {},
   "source": [
    "# CLUSTERISATION - AJUSTEMENT POWER - RECREATION DES DONNEES DE TEST ET TRAIN"
   ]
  },
  {
   "cell_type": "code",
   "execution_count": 155,
   "id": "b393fb88",
   "metadata": {},
   "outputs": [
    {
     "data": {
      "image/png": "[encoded data removed]",
      "text/plain": [
       "<Figure size 432x288 with 1 Axes>"
      ]
     },
     "metadata": {
      "needs_background": "light"
     },
     "output_type": "display_data"
    }
   ],
   "source": [
    "from sklearn.cluster import KMeans\n",
    "\n",
    "X = df_x_test.to_numpy()\n",
    "\n",
    "clustering = KMeans(n_clusters=8,random_state=3)\n",
    "clustering.fit(X)\n",
    "df_centroids = cpd.DataFrame(clustering.cluster_centers_,columns=df_x_test.columns)\n",
    "\n",
    "color_theme = np.array(['darkgray','lightsalmon','powderblue','black','red','orange','green','purple'])\n",
    "plt.subplot(1,2,1)\n",
    "plt.scatter(x = df_x_test.instant,y=df_x_test.mean_120,c=color_theme[clustering.labels_])\n",
    "plt.xlabel('mean_120 (W)')\n",
    "plt.ylabel('mean_5 (W)')\n",
    "plt.title('Kmean Clustering')\n",
    "plt.savefig('clustering.png',dpi=200)\n"
   ]
  },
  {
   "cell_type": "markdown",
   "id": "973f3ad8",
   "metadata": {},
   "source": [
    "# Tracé des diagrammes de fréquence"
   ]
  },
  {
   "cell_type": "code",
   "execution_count": 32,
   "id": "65b24311",
   "metadata": {},
   "outputs": [
    {
     "data": {
      "text/plain": [
       "type\n",
       "2011-04-18 09:24:12-04:00    92.0\n",
       "2011-04-18 09:24:13-04:00    92.0\n",
       "2011-04-18 09:24:14-04:00    92.0\n",
       "2011-04-18 09:24:15-04:00    92.0\n",
       "2011-04-18 09:24:16-04:00    92.0\n",
       "                             ... \n",
       "2011-05-03 17:33:13-04:00    91.0\n",
       "2011-05-03 17:33:14-04:00    91.0\n",
       "2011-05-03 17:33:15-04:00    91.0\n",
       "2011-05-03 17:33:16-04:00    91.0\n",
       "2011-05-03 17:33:17-04:00    90.0\n",
       "Name: instant, Length: 1041486, dtype: float64"
      ]
     },
     "execution_count": 32,
     "metadata": {},
     "output_type": "execute_result"
    }
   ],
   "source": [
    "df_x_train['instant']"
   ]
  },
  {
   "cell_type": "code",
   "execution_count": 49,
   "id": "0e3c3603",
   "metadata": {},
   "outputs": [
    {
     "data": {
      "text/plain": [
       "(1.9640000000000002, 19.586]    349647\n",
       "(19.586, 32.172]                  1077\n",
       "(32.172, 44.759]                  1079\n",
       "(44.759, 57.345]                  1837\n",
       "(57.345, 69.931]                   213\n",
       "(69.931, 82.518]                   242\n",
       "(82.518, 95.104]                378776\n",
       "(95.104, 107.69]                  1296\n",
       "(107.69, 120.276]                  595\n",
       "(120.276, 132.862]                1882\n",
       "(132.862, 145.449]                 260\n",
       "(145.449, 158.035]                 149\n",
       "(158.035, 170.621]                 172\n",
       "(170.621, 183.207]                2016\n",
       "(183.207, 195.794]               42987\n",
       "(195.794, 208.38]                49515\n",
       "(208.38, 220.966]                 7971\n",
       "(220.966, 233.552]                6119\n",
       "(233.552, 246.139]                3495\n",
       "(246.139, 258.725]                 791\n",
       "(258.725, 271.311]               19994\n",
       "(271.311, 283.898]               75398\n",
       "(283.898, 296.484]               24062\n",
       "(296.484, 309.07]                 4608\n",
       "(309.07, 321.656]                 4082\n",
       "(321.656, 334.242]                 842\n",
       "(334.242, 346.829]                 198\n",
       "(346.829, 359.415]                 190\n",
       "(359.415, 372.001]                 144\n",
       "(372.001, 384.588]                 134\n",
       "(384.588, 397.174]                 172\n",
       "(397.174, 409.76]                 2501\n",
       "(409.76, 422.346]                 1697\n",
       "(422.346, 434.932]                2291\n",
       "(434.932, 447.519]                 765\n",
       "(447.519, 460.105]                 356\n",
       "(460.105, 472.691]                 589\n",
       "(472.691, 485.278]                3207\n",
       "(485.278, 497.864]                1855\n",
       "(497.864, 510.45]                 1741\n",
       "(510.45, 523.036]                 3616\n",
       "(523.036, 535.622]                 489\n",
       "(535.622, 548.209]                 259\n",
       "(548.209, 560.795]                 225\n",
       "(560.795, 573.381]                 194\n",
       "(573.381, 585.968]                 560\n",
       "(585.968, 598.554]                 397\n",
       "(598.554, 611.14]                  237\n",
       "(611.14, 623.726]                  171\n",
       "(623.726, 636.312]                 144\n",
       "Name: mean_5, dtype: int64"
      ]
     },
     "execution_count": 49,
     "metadata": {},
     "output_type": "execute_result"
    }
   ],
   "source": [
    "df_freq = df_x_train[\"mean_5\"].value_counts(bins=400, sort=False)\n",
    "df_freq.head(50)"
   ]
  },
  {
   "cell_type": "code",
   "execution_count": 52,
   "id": "e79e0aaf",
   "metadata": {},
   "outputs": [
    {
     "data": {
      "text/plain": [
       "(326.228, 388.428]        396\n",
       "(388.428, 432.855]       6025\n",
       "(432.855, 477.282]      13266\n",
       "(477.282, 521.71]        9171\n",
       "(521.71, 566.138]       53033\n",
       "(566.138, 610.565]      32558\n",
       "(610.565, 654.993]      32082\n",
       "(654.993, 699.42]       65982\n",
       "(699.42, 743.848]       35009\n",
       "(743.848, 788.275]      39538\n",
       "(788.275, 832.703]      38819\n",
       "(832.703, 877.13]       27455\n",
       "(877.13, 921.558]       31925\n",
       "(921.558, 965.985]      23873\n",
       "(965.985, 1010.412]     25358\n",
       "(1010.412, 1054.84]     22669\n",
       "(1054.84, 1099.268]     18226\n",
       "(1099.268, 1143.695]    19592\n",
       "(1143.695, 1188.122]    15093\n",
       "(1188.122, 1232.55]     13201\n",
       "(1232.55, 1276.978]     13468\n",
       "(1276.978, 1321.405]    12342\n",
       "(1321.405, 1365.832]     9928\n",
       "(1365.832, 1410.26]      9172\n",
       "(1410.26, 1454.688]      7909\n",
       "(1454.688, 1499.115]     7816\n",
       "(1499.115, 1543.542]     4934\n",
       "(1543.542, 1587.97]      4413\n",
       "(1587.97, 1632.398]      3789\n",
       "(1632.398, 1676.825]     2534\n",
       "(1676.825, 1721.252]     2476\n",
       "(1721.252, 1765.68]      1826\n",
       "(1765.68, 1810.108]      1061\n",
       "(1810.108, 1854.535]     1452\n",
       "(1854.535, 1898.962]     1823\n",
       "(1898.962, 1943.39]      1035\n",
       "(1943.39, 1987.818]      1371\n",
       "(1987.818, 2032.245]     1060\n",
       "(2032.245, 2076.673]      766\n",
       "(2076.673, 2121.1]        870\n",
       "(2121.1, 2165.528]       1179\n",
       "(2165.528, 2209.955]      965\n",
       "(2209.955, 2254.382]     1598\n",
       "(2254.382, 2298.81]      2350\n",
       "(2298.81, 2343.238]      6849\n",
       "(2343.238, 2387.665]     5598\n",
       "(2387.665, 2432.092]     6177\n",
       "(2432.092, 2476.52]     10613\n",
       "(2476.52, 2520.948]      7026\n",
       "(2520.948, 2565.375]     6731\n",
       "Name: instant, dtype: int64"
      ]
     },
     "execution_count": 52,
     "metadata": {},
     "output_type": "execute_result"
    }
   ],
   "source": [
    "df_freq_2 = df_x_test[\"instant\"].value_counts(bins=400, sort=False)\n",
    "df_freq_2.head(50)"
   ]
  },
  {
   "cell_type": "code",
   "execution_count": 55,
   "id": "8c0ce83b",
   "metadata": {},
   "outputs": [
    {
     "data": {
      "text/plain": [
       "fridge    135.443564\n",
       "dtype: float64"
      ]
     },
     "execution_count": 55,
     "metadata": {},
     "output_type": "execute_result"
    }
   ],
   "source": [
    "np.mean(df_y_test.loc[df_y_test.fridge > 10])"
   ]
  },
  {
   "cell_type": "code",
   "execution_count": 40,
   "id": "69554ac3",
   "metadata": {},
   "outputs": [
    {
     "data": {
      "image/png": "[encoded data removed]",
      "text/plain": [
       "<Figure size 432x288 with 1 Axes>"
      ]
     },
     "metadata": {
      "needs_background": "light"
     },
     "output_type": "display_data"
    }
   ],
   "source": [
    "col = \"mean_5\"\n",
    "plot = plt.hist(list(df_x_train[col]),bins=200,color=\"red\",alpha=0.8)\n",
    "plt.title(col + \"_conso generale\")\n",
    "plt.ylabel(\"Fréquences\")\n",
    "plt.xlabel(\"Puissance (W)\")\n",
    "plt.xticks([n for n in range(1,30)],rotation='vertical')\n",
    "plt.savefig(\"Hist\" + \"_\" + col + \"_.jpg\", dpi=200)"
   ]
  },
  {
   "cell_type": "code",
   "execution_count": null,
   "id": "f897ac7b",
   "metadata": {},
   "outputs": [],
   "source": []
  }
 ],
 "metadata": {
  "kernelspec": {
   "display_name": "Python 3 (ipykernel)",
   "language": "python",
   "name": "python3"
  },
  "language_info": {
   "codemirror_mode": {
    "name": "ipython",
    "version": 3
   },
   "file_extension": ".py",
   "mimetype": "text/x-python",
   "name": "python",
   "nbconvert_exporter": "python",
   "pygments_lexer": "ipython3",
   "version": "3.8.3"
  }
 },
 "nbformat": 4,
 "nbformat_minor": 5
}
